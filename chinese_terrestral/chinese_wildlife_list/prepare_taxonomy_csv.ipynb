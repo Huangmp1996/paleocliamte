{
 "cells": [
  {
   "cell_type": "code",
   "execution_count": 18,
   "id": "f5ee0a21",
   "metadata": {},
   "outputs": [
    {
     "name": "stderr",
     "output_type": "stream",
     "text": [
      "Linking to GEOS 3.9.1, GDAL 3.3.2, PROJ 8.1.1\n",
      "\n"
     ]
    }
   ],
   "source": [
    "library(dplyr)\n",
    "library(sf)"
   ]
  },
  {
   "cell_type": "code",
   "execution_count": 7,
   "id": "043f8903",
   "metadata": {},
   "outputs": [
    {
     "name": "stderr",
     "output_type": "stream",
     "text": [
      "`summarise()` has grouped output by 'class', 'species'. You can override using the `.groups` argument.\n",
      "\n"
     ]
    }
   ],
   "source": [
    "chinese_wild_life_list <- read.csv('taxonomy.csv') %>% \n",
    "                        select('scientificName','kingdomName','phylumName','className','orderName','familyName')\n",
    "Chinese_species_distribution_grid <- read.csv(\"../species_distribution_grid_filtered.csv\",\n",
    "                                              header = F, col.names = c(\"class\",\"species\",\"grid_id\",\"area\")) %>% \n",
    "                                    group_by(class,species,grid_id) %>% summarise(area = sum(area)) %>% ungroup()\n",
    "Chinese_species_distribution_grid <- left_join(Chinese_species_distribution_grid,chinese_wild_life_list,by = c('species' = 'scientificName'))\n",
    "Chinese_species_distribution_grid_selected <- filter(Chinese_species_distribution_grid,\n",
    "                                                     !(familyName %in% toupper(c('Procellariidae','Alcidae','Fregatidae','Gaviidae',\n",
    "                                                                       'Phaethontidae','Diomedeidae','Stercorariidae','Sulidae',\n",
    "                                                                       'Pelecanidae','Phalacrocoracidae','Laridae','Hydrobatidae', # marine bird\n",
    "                                                                       'Balaenopteridae','Delphinidae','Eschrichtiidae','Ziphiidae',\n",
    "                                                                       'Kogiidae','Dugongidae','Iniidae','Phocoenidae','Physeteridae',\n",
    "                                                                       'Phocidae','Otariidae','Sirenia')))) %>%  # marine mammal\n",
    "                                                dplyr::select('className','orderName','familyName','species') %>% as.data.frame() \n"
   ]
  },
  {
   "cell_type": "code",
   "execution_count": 8,
   "id": "573a61c4",
   "metadata": {},
   "outputs": [],
   "source": [
    "Chinese_species_distribution_grid_selected$species <- gsub(' ','_',Chinese_species_distribution_grid_selected$species)"
   ]
  },
  {
   "cell_type": "code",
   "execution_count": 12,
   "id": "a6109e7d",
   "metadata": {},
   "outputs": [
    {
     "data": {
      "text/html": [
       "<table class=\"dataframe\">\n",
       "<caption>A data.frame: 6 × 4</caption>\n",
       "<thead>\n",
       "\t<tr><th></th><th scope=col>className</th><th scope=col>orderName</th><th scope=col>familyName</th><th scope=col>species</th></tr>\n",
       "\t<tr><th></th><th scope=col>&lt;chr&gt;</th><th scope=col>&lt;chr&gt;</th><th scope=col>&lt;chr&gt;</th><th scope=col>&lt;chr&gt;</th></tr>\n",
       "</thead>\n",
       "<tbody>\n",
       "\t<tr><th scope=row>1</th><td>AMPHIBIA</td><td>ANURA</td><td>RANIDAE</td><td>Amolops_albispinus  </td></tr>\n",
       "\t<tr><th scope=row>7</th><td>AMPHIBIA</td><td>ANURA</td><td>RANIDAE</td><td>Amolops_aniqiaoensis</td></tr>\n",
       "\t<tr><th scope=row>11</th><td>AMPHIBIA</td><td>ANURA</td><td>RANIDAE</td><td>Amolops_bellulus    </td></tr>\n",
       "\t<tr><th scope=row>13</th><td>AMPHIBIA</td><td>ANURA</td><td>RANIDAE</td><td>Amolops_chayuensis  </td></tr>\n",
       "\t<tr><th scope=row>14</th><td>AMPHIBIA</td><td>ANURA</td><td>RANIDAE</td><td>Amolops_chunganensis</td></tr>\n",
       "\t<tr><th scope=row>152</th><td>AMPHIBIA</td><td>ANURA</td><td>RANIDAE</td><td>Amolops_daiyunensis </td></tr>\n",
       "</tbody>\n",
       "</table>\n"
      ],
      "text/latex": [
       "A data.frame: 6 × 4\n",
       "\\begin{tabular}{r|llll}\n",
       "  & className & orderName & familyName & species\\\\\n",
       "  & <chr> & <chr> & <chr> & <chr>\\\\\n",
       "\\hline\n",
       "\t1 & AMPHIBIA & ANURA & RANIDAE & Amolops\\_albispinus  \\\\\n",
       "\t7 & AMPHIBIA & ANURA & RANIDAE & Amolops\\_aniqiaoensis\\\\\n",
       "\t11 & AMPHIBIA & ANURA & RANIDAE & Amolops\\_bellulus    \\\\\n",
       "\t13 & AMPHIBIA & ANURA & RANIDAE & Amolops\\_chayuensis  \\\\\n",
       "\t14 & AMPHIBIA & ANURA & RANIDAE & Amolops\\_chunganensis\\\\\n",
       "\t152 & AMPHIBIA & ANURA & RANIDAE & Amolops\\_daiyunensis \\\\\n",
       "\\end{tabular}\n"
      ],
      "text/markdown": [
       "\n",
       "A data.frame: 6 × 4\n",
       "\n",
       "| <!--/--> | className &lt;chr&gt; | orderName &lt;chr&gt; | familyName &lt;chr&gt; | species &lt;chr&gt; |\n",
       "|---|---|---|---|---|\n",
       "| 1 | AMPHIBIA | ANURA | RANIDAE | Amolops_albispinus   |\n",
       "| 7 | AMPHIBIA | ANURA | RANIDAE | Amolops_aniqiaoensis |\n",
       "| 11 | AMPHIBIA | ANURA | RANIDAE | Amolops_bellulus     |\n",
       "| 13 | AMPHIBIA | ANURA | RANIDAE | Amolops_chayuensis   |\n",
       "| 14 | AMPHIBIA | ANURA | RANIDAE | Amolops_chunganensis |\n",
       "| 152 | AMPHIBIA | ANURA | RANIDAE | Amolops_daiyunensis  |\n",
       "\n"
      ],
      "text/plain": [
       "    className orderName familyName species             \n",
       "1   AMPHIBIA  ANURA     RANIDAE    Amolops_albispinus  \n",
       "7   AMPHIBIA  ANURA     RANIDAE    Amolops_aniqiaoensis\n",
       "11  AMPHIBIA  ANURA     RANIDAE    Amolops_bellulus    \n",
       "13  AMPHIBIA  ANURA     RANIDAE    Amolops_chayuensis  \n",
       "14  AMPHIBIA  ANURA     RANIDAE    Amolops_chunganensis\n",
       "152 AMPHIBIA  ANURA     RANIDAE    Amolops_daiyunensis "
      ]
     },
     "metadata": {},
     "output_type": "display_data"
    }
   ],
   "source": [
    "Chinese_species_distribution_grid_selected <- Chinese_species_distribution_grid_selected[!duplicated(Chinese_species_distribution_grid_selected),]\n",
    "head(Chinese_species_distribution_grid_selected)\n",
    "write.table(Chinese_species_distribution_grid_selected,'taxonomy_.csv',sep = '_',row.names = F,quote = F,col.names = F)"
   ]
  },
  {
   "cell_type": "code",
   "execution_count": 33,
   "id": "dd7ffb3d",
   "metadata": {},
   "outputs": [
    {
     "name": "stdout",
     "output_type": "stream",
     "text": [
      "Reading layer `Chinese_lizards_214_version20200927' from data source \n",
      "  `/home/hmp/paleoclimate/reptile/data_reptile/Chinese213lizards_9_27/Chinese_lizards_214_version20200927.shp' \n",
      "  using driver `ESRI Shapefile'\n",
      "Simple feature collection with 213 features and 11 fields\n",
      "Geometry type: MULTIPOLYGON\n",
      "Dimension:     XY\n",
      "Bounding box:  xmin: 73.44696 ymin: 18.1615 xmax: 135.0858 ymax: 53.55793\n",
      "Geodetic CRS:  WGS 84\n"
     ]
    }
   ],
   "source": [
    "# add lizards in Chinese213lizards_9_27 BUT NOT IN Chinese_species_distribution_grid_selected\n",
    "lizard <- sf::st_read('../../reptile/data_reptile/Chinese213lizards_9_27/Chinese_lizards_214_version20200927.shp') %>% st_set_geometry(NULL)\n",
    "lizard$Binomial <- gsub(' ','_',lizard$Binomial)\n",
    "lizard <- within(lizard,{\n",
    "    Group_ <- dplyr::recode(Group_,\n",
    "                  'Agamid' = 'Agamidae',\n",
    "                  'Scincid' = 'Scincidae',\n",
    "                  'Dibamid' = 'Dibamidae',\n",
    "                  'Lacertid' = 'Lacertidae',\n",
    "                  'Shinisaurid' = 'Shinisauridae ',\n",
    "                  'Varanid' = 'Varanidae' )\n",
    "})\n",
    "taxa <- filter(lizard,!(Binomial %in% Chinese_species_distribution_grid_selected$species)) %>% select(Group_,Binomial) %>% \n",
    "    mutate(taxa = paste0('REPTILIA_SQUAMATA_',Group_,'_',Binomial)) %>% select(taxa)\n",
    "write.table(taxa,'./lizard_sup.txt',sep = '\\t',row.names = F,quote = F,col.names = F)"
   ]
  },
  {
   "cell_type": "code",
   "execution_count": 22,
   "id": "46894837",
   "metadata": {},
   "outputs": [
    {
     "data": {
      "text/html": [
       "<table class=\"dataframe\">\n",
       "<caption>A data.frame: 6 × 11</caption>\n",
       "<thead>\n",
       "\t<tr><th></th><th scope=col>OBJECTID_1</th><th scope=col>Binomial</th><th scope=col>Area</th><th scope=col>Group_</th><th scope=col>Shape_Leng</th><th scope=col>Shape_Le_1</th><th scope=col>物种</th><th scope=col>科</th><th scope=col>Shape_Le_2</th><th scope=col>Shape_Area</th><th scope=col>logBM</th></tr>\n",
       "\t<tr><th></th><th scope=col>&lt;int&gt;</th><th scope=col>&lt;chr&gt;</th><th scope=col>&lt;dbl&gt;</th><th scope=col>&lt;chr&gt;</th><th scope=col>&lt;dbl&gt;</th><th scope=col>&lt;dbl&gt;</th><th scope=col>&lt;chr&gt;</th><th scope=col>&lt;chr&gt;</th><th scope=col>&lt;dbl&gt;</th><th scope=col>&lt;dbl&gt;</th><th scope=col>&lt;chr&gt;</th></tr>\n",
       "</thead>\n",
       "<tbody>\n",
       "\t<tr><th scope=row>1</th><td>1</td><td>Acanthosaura armata      </td><td> 217537.2</td><td>Agamid </td><td> 11.16604</td><td> 11.16604</td><td>长棘蜥    </td><td>鬣蜥科  </td><td> 11.16604</td><td> 2.721448</td><td>55.87</td></tr>\n",
       "\t<tr><th scope=row>2</th><td>2</td><td>Acanthosaura lepidogaster</td><td>2557954.5</td><td>Agamid </td><td>134.73287</td><td>134.73287</td><td>丽棘蜥    </td><td>鬣蜥科  </td><td>134.73287</td><td>77.734838</td><td>41.23</td></tr>\n",
       "\t<tr><th scope=row>3</th><td>3</td><td>Alsophylax przewalskii   </td><td> 863889.3</td><td>Gecko  </td><td> 45.70738</td><td> 45.70738</td><td>新疆漠虎  </td><td>壁虎科  </td><td> 45.70738</td><td>90.565280</td><td>0.819</td></tr>\n",
       "\t<tr><th scope=row>4</th><td>4</td><td>Altiphylax stoliczkai    </td><td> 137019.6</td><td>Gecko  </td><td> 13.88176</td><td> 13.88176</td><td>宽斑隆趾虎</td><td>壁虎科  </td><td> 13.88176</td><td> 6.001921</td><td>2.810</td></tr>\n",
       "\t<tr><th scope=row>5</th><td>5</td><td>Ablepharus alaicus       </td><td> 476152.1</td><td>Scincid</td><td> 47.08095</td><td> 47.08095</td><td>阿赖山泛蜥</td><td>石龙子科</td><td> 47.08095</td><td>16.679666</td><td>5.303</td></tr>\n",
       "\t<tr><th scope=row>6</th><td>6</td><td>Scincella himalayanus    </td><td> 609709.2</td><td>Scincid</td><td> 42.45889</td><td> 42.45889</td><td>喜山滑蜥  </td><td>石龙子科</td><td> 42.45889</td><td>12.775777</td><td>2.370</td></tr>\n",
       "</tbody>\n",
       "</table>\n"
      ],
      "text/latex": [
       "A data.frame: 6 × 11\n",
       "\\begin{tabular}{r|lllllllllll}\n",
       "  & OBJECTID\\_1 & Binomial & Area & Group\\_ & Shape\\_Leng & Shape\\_Le\\_1 & 物种 & 科 & Shape\\_Le\\_2 & Shape\\_Area & logBM\\\\\n",
       "  & <int> & <chr> & <dbl> & <chr> & <dbl> & <dbl> & <chr> & <chr> & <dbl> & <dbl> & <chr>\\\\\n",
       "\\hline\n",
       "\t1 & 1 & Acanthosaura armata       &  217537.2 & Agamid  &  11.16604 &  11.16604 & 长棘蜥     & 鬣蜥科   &  11.16604 &  2.721448 & 55.87\\\\\n",
       "\t2 & 2 & Acanthosaura lepidogaster & 2557954.5 & Agamid  & 134.73287 & 134.73287 & 丽棘蜥     & 鬣蜥科   & 134.73287 & 77.734838 & 41.23\\\\\n",
       "\t3 & 3 & Alsophylax przewalskii    &  863889.3 & Gecko   &  45.70738 &  45.70738 & 新疆漠虎   & 壁虎科   &  45.70738 & 90.565280 & 0.819\\\\\n",
       "\t4 & 4 & Altiphylax stoliczkai     &  137019.6 & Gecko   &  13.88176 &  13.88176 & 宽斑隆趾虎 & 壁虎科   &  13.88176 &  6.001921 & 2.810\\\\\n",
       "\t5 & 5 & Ablepharus alaicus        &  476152.1 & Scincid &  47.08095 &  47.08095 & 阿赖山泛蜥 & 石龙子科 &  47.08095 & 16.679666 & 5.303\\\\\n",
       "\t6 & 6 & Scincella himalayanus     &  609709.2 & Scincid &  42.45889 &  42.45889 & 喜山滑蜥   & 石龙子科 &  42.45889 & 12.775777 & 2.370\\\\\n",
       "\\end{tabular}\n"
      ],
      "text/markdown": [
       "\n",
       "A data.frame: 6 × 11\n",
       "\n",
       "| <!--/--> | OBJECTID_1 &lt;int&gt; | Binomial &lt;chr&gt; | Area &lt;dbl&gt; | Group_ &lt;chr&gt; | Shape_Leng &lt;dbl&gt; | Shape_Le_1 &lt;dbl&gt; | 物种 &lt;chr&gt; | 科 &lt;chr&gt; | Shape_Le_2 &lt;dbl&gt; | Shape_Area &lt;dbl&gt; | logBM &lt;chr&gt; |\n",
       "|---|---|---|---|---|---|---|---|---|---|---|---|\n",
       "| 1 | 1 | Acanthosaura armata       |  217537.2 | Agamid  |  11.16604 |  11.16604 | 长棘蜥     | 鬣蜥科   |  11.16604 |  2.721448 | 55.87 |\n",
       "| 2 | 2 | Acanthosaura lepidogaster | 2557954.5 | Agamid  | 134.73287 | 134.73287 | 丽棘蜥     | 鬣蜥科   | 134.73287 | 77.734838 | 41.23 |\n",
       "| 3 | 3 | Alsophylax przewalskii    |  863889.3 | Gecko   |  45.70738 |  45.70738 | 新疆漠虎   | 壁虎科   |  45.70738 | 90.565280 | 0.819 |\n",
       "| 4 | 4 | Altiphylax stoliczkai     |  137019.6 | Gecko   |  13.88176 |  13.88176 | 宽斑隆趾虎 | 壁虎科   |  13.88176 |  6.001921 | 2.810 |\n",
       "| 5 | 5 | Ablepharus alaicus        |  476152.1 | Scincid |  47.08095 |  47.08095 | 阿赖山泛蜥 | 石龙子科 |  47.08095 | 16.679666 | 5.303 |\n",
       "| 6 | 6 | Scincella himalayanus     |  609709.2 | Scincid |  42.45889 |  42.45889 | 喜山滑蜥   | 石龙子科 |  42.45889 | 12.775777 | 2.370 |\n",
       "\n"
      ],
      "text/plain": [
       "  OBJECTID_1 Binomial                  Area      Group_  Shape_Leng Shape_Le_1\n",
       "1 1          Acanthosaura armata        217537.2 Agamid   11.16604   11.16604 \n",
       "2 2          Acanthosaura lepidogaster 2557954.5 Agamid  134.73287  134.73287 \n",
       "3 3          Alsophylax przewalskii     863889.3 Gecko    45.70738   45.70738 \n",
       "4 4          Altiphylax stoliczkai      137019.6 Gecko    13.88176   13.88176 \n",
       "5 5          Ablepharus alaicus         476152.1 Scincid  47.08095   47.08095 \n",
       "6 6          Scincella himalayanus      609709.2 Scincid  42.45889   42.45889 \n",
       "  物种       科       Shape_Le_2 Shape_Area logBM\n",
       "1 长棘蜥     鬣蜥科    11.16604   2.721448  55.87\n",
       "2 丽棘蜥     鬣蜥科   134.73287  77.734838  41.23\n",
       "3 新疆漠虎   壁虎科    45.70738  90.565280  0.819\n",
       "4 宽斑隆趾虎 壁虎科    13.88176   6.001921  2.810\n",
       "5 阿赖山泛蜥 石龙子科  47.08095  16.679666  5.303\n",
       "6 喜山滑蜥   石龙子科  42.45889  12.775777  2.370"
      ]
     },
     "metadata": {},
     "output_type": "display_data"
    },
    {
     "data": {
      "text/html": [
       "<style>\n",
       ".list-inline {list-style: none; margin:0; padding: 0}\n",
       ".list-inline>li {display: inline-block}\n",
       ".list-inline>li:not(:last-child)::after {content: \"\\00b7\"; padding: 0 .5ex}\n",
       "</style>\n",
       "<ol class=list-inline><li>'Agamid'</li><li>'Gecko'</li><li>'Scincid'</li><li>'Dibamid'</li><li>'Lacertid'</li><li>'Shinisaurid'</li><li>'Varanid'</li></ol>\n"
      ],
      "text/latex": [
       "\\begin{enumerate*}\n",
       "\\item 'Agamid'\n",
       "\\item 'Gecko'\n",
       "\\item 'Scincid'\n",
       "\\item 'Dibamid'\n",
       "\\item 'Lacertid'\n",
       "\\item 'Shinisaurid'\n",
       "\\item 'Varanid'\n",
       "\\end{enumerate*}\n"
      ],
      "text/markdown": [
       "1. 'Agamid'\n",
       "2. 'Gecko'\n",
       "3. 'Scincid'\n",
       "4. 'Dibamid'\n",
       "5. 'Lacertid'\n",
       "6. 'Shinisaurid'\n",
       "7. 'Varanid'\n",
       "\n",
       "\n"
      ],
      "text/plain": [
       "[1] \"Agamid\"      \"Gecko\"       \"Scincid\"     \"Dibamid\"     \"Lacertid\"   \n",
       "[6] \"Shinisaurid\" \"Varanid\"    "
      ]
     },
     "metadata": {},
     "output_type": "display_data"
    }
   ],
   "source": [
    "head(lizard)\n",
    "unique(lizard$Group_)"
   ]
  }
 ],
 "metadata": {
  "kernelspec": {
   "display_name": "R",
   "language": "R",
   "name": "ir"
  },
  "language_info": {
   "codemirror_mode": "r",
   "file_extension": ".r",
   "mimetype": "text/x-r-source",
   "name": "R",
   "pygments_lexer": "r",
   "version": "4.1.1"
  },
  "toc": {
   "base_numbering": 1,
   "nav_menu": {},
   "number_sections": true,
   "sideBar": true,
   "skip_h1_title": false,
   "title_cell": "Table of Contents",
   "title_sidebar": "Contents",
   "toc_cell": false,
   "toc_position": {},
   "toc_section_display": true,
   "toc_window_display": false
  }
 },
 "nbformat": 4,
 "nbformat_minor": 5
}
