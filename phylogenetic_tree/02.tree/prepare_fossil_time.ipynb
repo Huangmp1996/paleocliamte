{
 "cells": [
  {
   "cell_type": "code",
   "execution_count": 1,
   "id": "b69c8417",
   "metadata": {},
   "outputs": [
    {
     "name": "stderr",
     "output_type": "stream",
     "text": [
      "── \u001b[1mAttaching packages\u001b[22m ────────────────────────────────────────────────────────────────────────────────── tidyverse 1.3.1 ──\n",
      "\n",
      "\u001b[32m✔\u001b[39m \u001b[34mggplot2\u001b[39m 3.3.5     \u001b[32m✔\u001b[39m \u001b[34mpurrr  \u001b[39m 0.3.4\n",
      "\u001b[32m✔\u001b[39m \u001b[34mtibble \u001b[39m 3.1.5     \u001b[32m✔\u001b[39m \u001b[34mdplyr  \u001b[39m 1.0.7\n",
      "\u001b[32m✔\u001b[39m \u001b[34mtidyr  \u001b[39m 1.1.4     \u001b[32m✔\u001b[39m \u001b[34mstringr\u001b[39m 1.4.0\n",
      "\u001b[32m✔\u001b[39m \u001b[34mreadr  \u001b[39m 2.0.2     \u001b[32m✔\u001b[39m \u001b[34mforcats\u001b[39m 0.5.1\n",
      "\n",
      "── \u001b[1mConflicts\u001b[22m ───────────────────────────────────────────────────────────────────────────────────── tidyverse_conflicts() ──\n",
      "\u001b[31m✖\u001b[39m \u001b[34mdplyr\u001b[39m::\u001b[32mfilter()\u001b[39m masks \u001b[34mstats\u001b[39m::filter()\n",
      "\u001b[31m✖\u001b[39m \u001b[34mdplyr\u001b[39m::\u001b[32mlag()\u001b[39m    masks \u001b[34mstats\u001b[39m::lag()\n",
      "\n"
     ]
    }
   ],
   "source": [
    "library(tidyverse)\n",
    "library(ape)"
   ]
  },
  {
   "cell_type": "markdown",
   "id": "ff7f7769",
   "metadata": {},
   "source": [
    "# constraint tree"
   ]
  },
  {
   "cell_type": "code",
   "execution_count": 2,
   "id": "967d7df9",
   "metadata": {},
   "outputs": [],
   "source": [
    "fasta <- read.FASTA(\"../01.alignment/six_gene.fasta\")\n",
    "taxa_table <- as.data.frame(names(fasta))\n",
    "colnames(taxa_table) <- 'taxa'"
   ]
  },
  {
   "cell_type": "code",
   "execution_count": 3,
   "id": "ebd5b1c1",
   "metadata": {},
   "outputs": [],
   "source": [
    "taxa_table <- tidyr::separate(taxa_table,taxa,into = c(\"class\",\"order\",\"family\",\"genus\",\"species\"),sep = \"_\",remove = F)\n",
    "taxa_table$binomial <- paste(taxa_table$genus,taxa_table$species,sep = '_')"
   ]
  },
  {
   "cell_type": "code",
   "execution_count": 4,
   "id": "d8c070ba",
   "metadata": {},
   "outputs": [
    {
     "data": {
      "text/html": [
       "<table class=\"dataframe\">\n",
       "<caption>A data.frame: 6 × 2</caption>\n",
       "<thead>\n",
       "\t<tr><th></th><th scope=col>phy.tip.label</th><th scope=col>splist</th></tr>\n",
       "\t<tr><th></th><th scope=col>&lt;chr&gt;</th><th scope=col>&lt;chr&gt;</th></tr>\n",
       "</thead>\n",
       "<tbody>\n",
       "\t<tr><th scope=row>1</th><td>Sphenodon_punctatus   </td><td>Sphenodon_punctatus   </td></tr>\n",
       "\t<tr><th scope=row>2</th><td>Gonyosoma_oxycephalum </td><td>Gonyosoma_oxycephalum </td></tr>\n",
       "\t<tr><th scope=row>3</th><td>Gonyosoma_jansenii    </td><td>Gonyosoma_jansenii    </td></tr>\n",
       "\t<tr><th scope=row>4</th><td>Gonyosoma_prasinus    </td><td>Gonyosoma_prasinus    </td></tr>\n",
       "\t<tr><th scope=row>5</th><td>Gonyosoma_margaritatus</td><td>Gonyosoma_margaritatus</td></tr>\n",
       "\t<tr><th scope=row>6</th><td>Gonyosoma_frenatus    </td><td>Gonyosoma_frenatus    </td></tr>\n",
       "</tbody>\n",
       "</table>\n"
      ],
      "text/latex": [
       "A data.frame: 6 × 2\n",
       "\\begin{tabular}{r|ll}\n",
       "  & phy.tip.label & splist\\\\\n",
       "  & <chr> & <chr>\\\\\n",
       "\\hline\n",
       "\t1 & Sphenodon\\_punctatus    & Sphenodon\\_punctatus   \\\\\n",
       "\t2 & Gonyosoma\\_oxycephalum  & Gonyosoma\\_oxycephalum \\\\\n",
       "\t3 & Gonyosoma\\_jansenii     & Gonyosoma\\_jansenii    \\\\\n",
       "\t4 & Gonyosoma\\_prasinus     & Gonyosoma\\_prasinus    \\\\\n",
       "\t5 & Gonyosoma\\_margaritatus & Gonyosoma\\_margaritatus\\\\\n",
       "\t6 & Gonyosoma\\_frenatus     & Gonyosoma\\_frenatus    \\\\\n",
       "\\end{tabular}\n"
      ],
      "text/markdown": [
       "\n",
       "A data.frame: 6 × 2\n",
       "\n",
       "| <!--/--> | phy.tip.label &lt;chr&gt; | splist &lt;chr&gt; |\n",
       "|---|---|---|\n",
       "| 1 | Sphenodon_punctatus    | Sphenodon_punctatus    |\n",
       "| 2 | Gonyosoma_oxycephalum  | Gonyosoma_oxycephalum  |\n",
       "| 3 | Gonyosoma_jansenii     | Gonyosoma_jansenii     |\n",
       "| 4 | Gonyosoma_prasinus     | Gonyosoma_prasinus     |\n",
       "| 5 | Gonyosoma_margaritatus | Gonyosoma_margaritatus |\n",
       "| 6 | Gonyosoma_frenatus     | Gonyosoma_frenatus     |\n",
       "\n"
      ],
      "text/plain": [
       "  phy.tip.label          splist                \n",
       "1 Sphenodon_punctatus    Sphenodon_punctatus   \n",
       "2 Gonyosoma_oxycephalum  Gonyosoma_oxycephalum \n",
       "3 Gonyosoma_jansenii     Gonyosoma_jansenii    \n",
       "4 Gonyosoma_prasinus     Gonyosoma_prasinus    \n",
       "5 Gonyosoma_margaritatus Gonyosoma_margaritatus\n",
       "6 Gonyosoma_frenatus     Gonyosoma_frenatus    "
      ]
     },
     "metadata": {},
     "output_type": "display_data"
    }
   ],
   "source": [
    "phy <- read.tree('tree2/tetrapod_conglomerate_tree')\n",
    "splist <- strsplit(phy$tip.label,split='_') %>% sapply(function(x){paste(x[1],x[2],sep='_')})\n",
    "tetrapod <- data.frame(phy$tip.label,splist)\n",
    "head(tetrapod)"
   ]
  },
  {
   "cell_type": "code",
   "execution_count": 5,
   "id": "178a3cd3",
   "metadata": {},
   "outputs": [],
   "source": [
    "inter_tb <- inner_join(taxa_table,tetrapod,by =c('binomial'='splist'))\n",
    "phy_keep <- keep.tip(phy, inter_tb$phy.tip.label)\n",
    "phy_keep$tip.label <- inter_tb[match(phy_keep$tip.label,inter_tb$phy.tip.label),]$taxa"
   ]
  },
  {
   "cell_type": "code",
   "execution_count": 6,
   "id": "5616974c",
   "metadata": {},
   "outputs": [],
   "source": [
    "# write.tree(phy_keep, file = \"tree2/tetrapod_conglomerate_tree.keep\")"
   ]
  },
  {
   "cell_type": "code",
   "execution_count": 7,
   "id": "fba6b96b",
   "metadata": {},
   "outputs": [],
   "source": [
    "dplyr::select(taxa_table,binomial) %>% write.table('six_gene_phy_taxa.txt',,sep='\\t',row.names = F,quote=F,col.names=F)"
   ]
  },
  {
   "cell_type": "markdown",
   "id": "2125013d",
   "metadata": {},
   "source": [
    "# fossil time"
   ]
  },
  {
   "cell_type": "code",
   "execution_count": 64,
   "id": "74ca893a",
   "metadata": {},
   "outputs": [],
   "source": [
    "fossil <- read.table('./timetree_table.txt',sep = '\\t',col.names = c('binomial','min','max','node'))\n",
    "fossil <- left_join(fossil,taxa_table,by = 'binomial') %>% select('taxa','min','max','node')"
   ]
  },
  {
   "cell_type": "code",
   "execution_count": 62,
   "id": "2a0e79c1",
   "metadata": {},
   "outputs": [
    {
     "ename": "ERROR",
     "evalue": "Error in if (fossil$min[node.no[i]] >= fossil$max[node.no[i]]) {: missing value where TRUE/FALSE needed\n",
     "output_type": "error",
     "traceback": [
      "Error in if (fossil$min[node.no[i]] >= fossil$max[node.no[i]]) {: missing value where TRUE/FALSE needed\nTraceback:\n"
     ]
    }
   ],
   "source": [
    "node.no <- which(!is.na(fossil$node))\n",
    "result <- c()\n",
    "for (i in 1:length(node.no)){\n",
    "    if (i != length(node.no)){\n",
    "        splist <- paste(fossil$taxa[node.no[i]:(node.no[i+1]-1)],collapse = ' ')\n",
    "    } else {\n",
    "        splist <- paste(fossil$taxa[node.no[i]:length(fossil$taxa)],collapse = ' ')\n",
    "    }\n",
    "    \n",
    "    first_line <- paste('mrca =',fossil$node[node.no[i]],splist,sep = ' ')\n",
    "    second_line <- paste('min =',fossil$node[node.no[i]],fossil$min[node.no[i]],sep = ' ')\n",
    "    third_line <- paste('max =',fossil$node[node.no[i]],fossil$max[node.no[i]],sep = ' ')\n",
    "    result <- append(result,first_line) %>% append(second_line) %>% append(third_line)\n",
    "}"
   ]
  },
  {
   "cell_type": "code",
   "execution_count": 54,
   "id": "ec8df031",
   "metadata": {},
   "outputs": [],
   "source": [
    "tree <- read.tree('tree2/tree2.treefile')\n",
    "fossil$node <- zoo::na.locf(fossil$node)\n",
    "mrca_node <- tapply(fossil$taxa,fossil$node,function(x) ape::getMRCA(tree,x)) %>% as.data.frame()"
   ]
  },
  {
   "cell_type": "code",
   "execution_count": 22,
   "id": "4973b740",
   "metadata": {},
   "outputs": [],
   "source": [
    "write.table(as.data.frame(result),'timetree_table_long.txt',col.names=F,row.names=F,quote=F)"
   ]
  }
 ],
 "metadata": {
  "kernelspec": {
   "display_name": "R",
   "language": "R",
   "name": "ir"
  },
  "language_info": {
   "codemirror_mode": "r",
   "file_extension": ".r",
   "mimetype": "text/x-r-source",
   "name": "R",
   "pygments_lexer": "r",
   "version": "4.1.1"
  },
  "toc": {
   "base_numbering": 1,
   "nav_menu": {},
   "number_sections": true,
   "sideBar": true,
   "skip_h1_title": false,
   "title_cell": "Table of Contents",
   "title_sidebar": "Contents",
   "toc_cell": false,
   "toc_position": {},
   "toc_section_display": true,
   "toc_window_display": false
  }
 },
 "nbformat": 4,
 "nbformat_minor": 5
}
